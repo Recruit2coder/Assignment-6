{
 "cells": [
  {
   "cell_type": "code",
   "execution_count": 9,
   "id": "837b4715",
   "metadata": {},
   "outputs": [
    {
     "name": "stdout",
     "output_type": "stream",
     "text": [
      "['False', 'None', 'True', 'and', 'as', 'assert', 'async', 'await', 'break', 'class', 'continue', 'def', 'del', 'elif', 'else', 'except', 'finally', 'for', 'from', 'global', 'if', 'import', 'in', 'is', 'lambda', 'nonlocal', 'not', 'or', 'pass', 'raise', 'return', 'try', 'while', 'with', 'yield']\n"
     ]
    }
   ],
   "source": [
    "#Q1. \n",
    "\n",
    "import keyword\n",
    "\n",
    "all_keywords = keyword.kwlist\n",
    "print(all_keywords)"
   ]
  },
  {
   "cell_type": "code",
   "execution_count": null,
   "id": "385425d9",
   "metadata": {},
   "outputs": [],
   "source": [
    "#What are the rules to create variables in python?\n",
    "\n",
    "#case sesnsative - A , a\n",
    "#valid name \n",
    "#cannot start with numberic\n",
    "#reserved keywords like else if for while"
   ]
  },
  {
   "cell_type": "code",
   "execution_count": null,
   "id": "5ad66243",
   "metadata": {},
   "outputs": [],
   "source": [
    "#What will happen if a keyword is used as a variable name?\n",
    "#it will result in a syntax error."
   ]
  },
  {
   "cell_type": "code",
   "execution_count": 1,
   "id": "5338b0c3",
   "metadata": {},
   "outputs": [
    {
     "ename": "SyntaxError",
     "evalue": "invalid syntax (182722112.py, line 1)",
     "output_type": "error",
     "traceback": [
      "\u001b[1;36m  Cell \u001b[1;32mIn[1], line 1\u001b[1;36m\u001b[0m\n\u001b[1;33m    if = 10\u001b[0m\n\u001b[1;37m       ^\u001b[0m\n\u001b[1;31mSyntaxError\u001b[0m\u001b[1;31m:\u001b[0m invalid syntax\n"
     ]
    }
   ],
   "source": [
    "if = 10"
   ]
  },
  {
   "cell_type": "code",
   "execution_count": 2,
   "id": "60724b0f",
   "metadata": {},
   "outputs": [
    {
     "ename": "SyntaxError",
     "evalue": "unexpected character after line continuation character (2292992405.py, line 4)",
     "output_type": "error",
     "traceback": [
      "\u001b[1;36m  Cell \u001b[1;32mIn[2], line 4\u001b[1;36m\u001b[0m\n\u001b[1;33m    print(heloo\\world)\u001b[0m\n\u001b[1;37m                ^\u001b[0m\n\u001b[1;31mSyntaxError\u001b[0m\u001b[1;31m:\u001b[0m unexpected character after line continuation character\n"
     ]
    }
   ],
   "source": [
    "#What is the operation of this special character ‘\\’?\n",
    "# in Python is primarily used for escaping characters and creating special sequences within strings."
   ]
  },
  {
   "cell_type": "code",
   "execution_count": null,
   "id": "b88d628a",
   "metadata": {},
   "outputs": [],
   "source": [
    "#Q.7. Give an example of the following conditions:\n",
    "#(i) Homogeneous list\n",
    "#(ii) Heterogeneous set\n",
    "#(iii) Homogeneous tuple"
   ]
  },
  {
   "cell_type": "code",
   "execution_count": 3,
   "id": "0a09f607",
   "metadata": {},
   "outputs": [],
   "source": [
    "#i \n",
    "l = [1,2,3,4,5]"
   ]
  },
  {
   "cell_type": "code",
   "execution_count": 7,
   "id": "3a625400",
   "metadata": {},
   "outputs": [
    {
     "data": {
      "text/plain": [
       "[1, 2, 3, 4, 5]"
      ]
     },
     "execution_count": 7,
     "metadata": {},
     "output_type": "execute_result"
    }
   ],
   "source": [
    "l"
   ]
  },
  {
   "cell_type": "code",
   "execution_count": 8,
   "id": "bd7caf34",
   "metadata": {},
   "outputs": [],
   "source": [
    "#ii   Heterogeneous set\n",
    "s = {1, 3.4, True, \"two\"}"
   ]
  },
  {
   "cell_type": "code",
   "execution_count": 9,
   "id": "49cc2937",
   "metadata": {},
   "outputs": [
    {
     "data": {
      "text/plain": [
       "{1, 3.4, 'two'}"
      ]
     },
     "execution_count": 9,
     "metadata": {},
     "output_type": "execute_result"
    }
   ],
   "source": [
    "s"
   ]
  },
  {
   "cell_type": "code",
   "execution_count": 11,
   "id": "92074883",
   "metadata": {},
   "outputs": [],
   "source": [
    "#iii homogeneous tuples\n",
    "t = (\"apple\", \"banana\", \"orange\")"
   ]
  },
  {
   "cell_type": "code",
   "execution_count": 12,
   "id": "92a6d7d6",
   "metadata": {},
   "outputs": [
    {
     "data": {
      "text/plain": [
       "('apple', 'banana', 'orange')"
      ]
     },
     "execution_count": 12,
     "metadata": {},
     "output_type": "execute_result"
    }
   ],
   "source": [
    "t"
   ]
  },
  {
   "cell_type": "code",
   "execution_count": 13,
   "id": "bec46146",
   "metadata": {},
   "outputs": [],
   "source": [
    "#Q8. Ans - Mutability where be you can do the item reassignment operation or item assign  operation in between the iterable\n",
    "#immutabilty you cannot do the reaasignment or assign item to operation in between the iterable\n",
    "\n",
    "#LIST IS MUTABLE ENTITY\n",
    "# STRING IS IMMUTABLE\n",
    "# TUPLE ARE IMMUTABLE"
   ]
  },
  {
   "cell_type": "code",
   "execution_count": 14,
   "id": "fb5061a0",
   "metadata": {},
   "outputs": [],
   "source": [
    "#list\n",
    "l = [1,2,4,5,6,7]"
   ]
  },
  {
   "cell_type": "code",
   "execution_count": 16,
   "id": "d3abd2d6",
   "metadata": {},
   "outputs": [],
   "source": [
    "l[2] = [\"sudh\"]"
   ]
  },
  {
   "cell_type": "code",
   "execution_count": 17,
   "id": "2e35895f",
   "metadata": {},
   "outputs": [
    {
     "data": {
      "text/plain": [
       "[1, 2, ['sudh'], 5, 6, 7]"
      ]
     },
     "execution_count": 17,
     "metadata": {},
     "output_type": "execute_result"
    }
   ],
   "source": [
    "l"
   ]
  },
  {
   "cell_type": "code",
   "execution_count": 18,
   "id": "80a0a0f5",
   "metadata": {},
   "outputs": [],
   "source": [
    "# tuple  - Immutable showing error\n",
    "# if i want to make some changes if it is allowed then its mutable OTHERWISE IT WILL BE UNMUTABLE ENTITY\n",
    "t = (4,5,6,7, \"sudh\", 45.67, True)"
   ]
  },
  {
   "cell_type": "code",
   "execution_count": 19,
   "id": "ad9584b3",
   "metadata": {},
   "outputs": [
    {
     "ename": "TypeError",
     "evalue": "'tuple' object does not support item assignment",
     "output_type": "error",
     "traceback": [
      "\u001b[1;31m---------------------------------------------------------------------------\u001b[0m",
      "\u001b[1;31mTypeError\u001b[0m                                 Traceback (most recent call last)",
      "Cell \u001b[1;32mIn[19], line 1\u001b[0m\n\u001b[1;32m----> 1\u001b[0m t[\u001b[38;5;241m2\u001b[39m] \u001b[38;5;241m=\u001b[39m \u001b[38;5;124m\"\u001b[39m\u001b[38;5;124msudh\u001b[39m\u001b[38;5;124m\"\u001b[39m\n",
      "\u001b[1;31mTypeError\u001b[0m: 'tuple' object does not support item assignment"
     ]
    }
   ],
   "source": [
    "t[2] = \"sudh\""
   ]
  },
  {
   "cell_type": "code",
   "execution_count": 20,
   "id": "208acec7",
   "metadata": {},
   "outputs": [],
   "source": [
    "#string  is a mutable entity its showing error means it's immutable\n",
    "s = (\"apple\", \"banana\", \"orange\")"
   ]
  },
  {
   "cell_type": "code",
   "execution_count": 22,
   "id": "7cc5e100",
   "metadata": {},
   "outputs": [
    {
     "ename": "NameError",
     "evalue": "name 'apple' is not defined",
     "output_type": "error",
     "traceback": [
      "\u001b[1;31m---------------------------------------------------------------------------\u001b[0m",
      "\u001b[1;31mNameError\u001b[0m                                 Traceback (most recent call last)",
      "Cell \u001b[1;32mIn[22], line 1\u001b[0m\n\u001b[1;32m----> 1\u001b[0m s[\u001b[43mapple\u001b[49m] \u001b[38;5;241m=\u001b[39m \u001b[38;5;124m\"\u001b[39m\u001b[38;5;124mVishal\u001b[39m\u001b[38;5;124m\"\u001b[39m\n",
      "\u001b[1;31mNameError\u001b[0m: name 'apple' is not defined"
     ]
    }
   ],
   "source": [
    "s[apple] = \"Vishal\""
   ]
  },
  {
   "cell_type": "code",
   "execution_count": null,
   "id": "916f3c8a",
   "metadata": {},
   "outputs": [],
   "source": [
    "\"\"\"\n",
    "Q.9. Write a code to create the given structure using only for loop.\n",
    "*\n",
    "***\n",
    "*****\n",
    "*******\n",
    "*********\n",
    "\"\"\"\n",
    "rows = 5\n",
    "\n",
    "for i in range(1, rows + 1):\n",
    "    for j in range(1, 2*i):\n",
    "        print('*', end='')\n",
    "    print()"
   ]
  },
  {
   "cell_type": "code",
   "execution_count": null,
   "id": "c3295a21",
   "metadata": {},
   "outputs": [],
   "source": [
    "\"\"\"\n",
    "Q.10. Write a code to create the given structure using while loop.\n",
    "|||||||||\n",
    "|||||||\n",
    "|||||\n",
    "|||\n",
    "|\n",
    "\"\"\"\n",
    "rows = 5\n",
    "\n",
    "while i in range(1, i + 1):\n",
    "    while j in range(1, 2*i):\n",
    "        print('*', end='')\n",
    "    print()"
   ]
  },
  {
   "cell_type": "code",
   "execution_count": 4,
   "id": "644fb9e8",
   "metadata": {},
   "outputs": [
    {
     "name": "stdout",
     "output_type": "stream",
     "text": [
      "|||||\n",
      "||||\n",
      "|||\n",
      "||\n",
      "|\n"
     ]
    }
   ],
   "source": [
    "rows = 5\n",
    "\n",
    "i = rows\n",
    "while i >= 1:\n",
    "    j = 1\n",
    "    while j <=i:\n",
    "        print(\"|\", end=\"\")\n",
    "        j += 1\n",
    "    print()\n",
    "    i -= 1"
   ]
  },
  {
   "cell_type": "code",
   "execution_count": null,
   "id": "bbf8295d",
   "metadata": {},
   "outputs": [],
   "source": []
  }
 ],
 "metadata": {
  "kernelspec": {
   "display_name": "Python 3 (ipykernel)",
   "language": "python",
   "name": "python3"
  },
  "language_info": {
   "codemirror_mode": {
    "name": "ipython",
    "version": 3
   },
   "file_extension": ".py",
   "mimetype": "text/x-python",
   "name": "python",
   "nbconvert_exporter": "python",
   "pygments_lexer": "ipython3",
   "version": "3.10.9"
  }
 },
 "nbformat": 4,
 "nbformat_minor": 5
}
